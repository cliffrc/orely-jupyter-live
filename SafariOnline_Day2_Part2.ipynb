{
  "nbformat": 4,
  "nbformat_minor": 0,
  "metadata": {
    "colab": {
      "name": "SafariOnline-Day2-Part2.ipynb",
      "version": "0.3.2",
      "provenance": [],
      "collapsed_sections": []
    },
    "kernelspec": {
      "name": "python3",
      "display_name": "Python 3"
    }
  },
  "cells": [
    {
      "cell_type": "markdown",
      "metadata": {
        "id": "view-in-github",
        "colab_type": "text"
      },
      "source": [
        "[View in Colaboratory](https://colab.research.google.com/github/cliffrc/orely-jupyter-live/blob/master/SafariOnline_Day2_Part2.ipynb)"
      ]
    },
    {
      "metadata": {
        "id": "4J2lIggJLUMS",
        "colab_type": "text"
      },
      "cell_type": "markdown",
      "source": [
        "# **Essential Machine Learning and Exploratory Data Analysis with Python and Jupyter Notebook**"
      ]
    },
    {
      "metadata": {
        "id": "HWKUOfEBUMLS",
        "colab_type": "text"
      },
      "cell_type": "markdown",
      "source": [
        "## Part 2: Applied Python and Cloud Basics (180 minutes)"
      ]
    },
    {
      "metadata": {
        "id": "GClC5R3ocVMQ",
        "colab_type": "text"
      },
      "cell_type": "markdown",
      "source": [
        "### Introduction to AWS Web Services\n",
        "\n",
        "* Creating accounts\n",
        "* Creating Users\n",
        "* Using Amazon S3:\n",
        "\n"
      ]
    },
    {
      "metadata": {
        "id": "WGqpXU3S-uef",
        "colab_type": "text"
      },
      "cell_type": "markdown",
      "source": [
        "\n",
        "\n",
        "#### Launch Jupyter Locally:\n",
        "\n",
        "https://github.com/noahgift/functional_intro_to_python/blob/master/notebooks/aws/aws.ipynb\n",
        "\n",
        "#### AWS S3 to Plotly Visualization\n",
        "\n",
        "https://github.com/noahgift/web_scraping_python/blob/master/notebooks/Web_Scraping_in_Python_for_AI_Fun_Profit_(PART%201).ipynb\n"
      ]
    },
    {
      "metadata": {
        "id": "8vthoIgOcr0L",
        "colab_type": "text"
      },
      "cell_type": "markdown",
      "source": [
        "### Overview of Step and Chalice functions with AWS\n",
        "\n",
        "* Walk through AWS Console\n",
        "* Walk through Notebook:  https://github.com/noahgift/web_scraping_python/blob/master/notebooks/Web_Scraping_in_Python_for_AI_Fun_Profit_(Coordination%20Tasks).ipynb\n",
        "* Demo this code here:\n",
        "\n",
        "https://github.com/noahgift/web_scraping_python/tree/master/chalice_apps/scrape-yahoo\n",
        "\n"
      ]
    },
    {
      "metadata": {
        "id": "UEY3xsRCcu5C",
        "colab_type": "text"
      },
      "cell_type": "markdown",
      "source": [
        "### Overview of AWS Batch for ML Jobs\n",
        "\n",
        "Example submissions tool\n",
        "\n",
        "```python\n",
        "@cli.group()\n",
        "def run():\n",
        "    \"\"\"Run AWS Batch\"\"\"\n",
        "\n",
        "@run.command(\"submit\")\n",
        "@click.option(\"--queue\", default=\"first-run-job-queue\", help=\"Batch Queue\")\n",
        "@click.option(\"--jobname\", default=\"1\", help=\"Name of Job\")\n",
        "@click.option(\"--jobdef\", default=\"test\", help=\"Job Definition\")\n",
        "@click.option(\"--cmd\", default=[\"uname\"], help=\"Container Override Commands\")\n",
        "def submit(queue, jobname, jobdef, cmd):\n",
        "    \"\"\"Submit a job\"\"\"\n",
        "\n",
        "    result = submit_job(\n",
        "        job_name=jobname,\n",
        "        job_queue=queue,\n",
        "        job_definition=jobdef,\n",
        "        command=cmd\n",
        "    )\n",
        "    click.echo(\"CLI:  Run Job Called\")\n",
        "    return result\n",
        "```\n",
        "\n",
        "\n"
      ]
    },
    {
      "metadata": {
        "id": "RaBBJifuc95I",
        "colab_type": "text"
      },
      "cell_type": "markdown",
      "source": [
        "### Software Carpentery\n",
        "\n",
        "*   Using Git and Github to manage changes\n",
        "*   Using CircleCI to build and test project sourced from Github\n",
        "*   Using Static Analysis and Testing tools: Pylint and Pytest\n",
        "*   Testing Jupyter Notebook\n",
        "\n",
        "Go through this repo in detail:  https://github.com/noahgift/myrepo\n"
      ]
    }
  ]
}