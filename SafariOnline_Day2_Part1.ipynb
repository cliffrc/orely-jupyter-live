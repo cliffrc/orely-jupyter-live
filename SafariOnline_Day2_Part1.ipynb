{
  "nbformat": 4,
  "nbformat_minor": 0,
  "metadata": {
    "colab": {
      "name": "SafariOnline-Day2-Part1.ipynb",
      "version": "0.3.2",
      "provenance": [],
      "collapsed_sections": [
        "cB_GXj17o9Ln"
      ]
    },
    "kernelspec": {
      "display_name": "Python 3",
      "language": "python",
      "name": "python3"
    }
  },
  "cells": [
    {
      "cell_type": "markdown",
      "metadata": {
        "id": "view-in-github",
        "colab_type": "text"
      },
      "source": [
        "[View in Colaboratory](https://colab.research.google.com/github/cliffrc/orely-jupyter-live/blob/master/SafariOnline_Day2_Part1.ipynb)"
      ]
    },
    {
      "metadata": {
        "id": "PDEU9FNDhWJx",
        "colab_type": "text"
      },
      "cell_type": "markdown",
      "source": [
        "# **Essential Machine Learning and Exploratory Data Analysis with Python and Jupyter Notebook**"
      ]
    },
    {
      "metadata": {
        "id": "hlezWD-RhWJy",
        "colab_type": "text"
      },
      "cell_type": "markdown",
      "source": [
        "### Part 1: IO Operations in Python and Pandas (180 minutes)\n",
        "\n",
        "* Writing a file\n",
        "* Reading a file\n",
        "* Using Subprocess Module\n",
        "* Reading YAML files"
      ]
    },
    {
      "metadata": {
        "id": "nWL2PRTThWJy",
        "colab_type": "text"
      },
      "cell_type": "markdown",
      "source": [
        "# Writing to a file"
      ]
    },
    {
      "metadata": {
        "id": "7mYzJfRohWJ0",
        "colab_type": "code",
        "colab": {
          "base_uri": "https://localhost:8080/",
          "height": 34
        },
        "outputId": "55ab0039-36bc-4cde-ea7d-051e17edb0ad"
      },
      "cell_type": "code",
      "source": [
        "f = open('workfile.txt', 'w')\n",
        "f.write(\"foo\")\n",
        "f.close()\n",
        "!cat workfile.txt"
      ],
      "execution_count": 0,
      "outputs": [
        {
          "output_type": "stream",
          "text": [
            "foo"
          ],
          "name": "stdout"
        }
      ]
    },
    {
      "metadata": {
        "id": "U9t2iFM4hWJ6",
        "colab_type": "text"
      },
      "cell_type": "markdown",
      "source": [
        "## Writing to a file with 'context'"
      ]
    },
    {
      "metadata": {
        "id": "5ksOM2J-hWJ7",
        "colab_type": "code",
        "colab": {
          "base_uri": "https://localhost:8080/",
          "height": 34
        },
        "outputId": "6530cd05-698e-4d4d-8779-9d1ae801a7cb"
      },
      "cell_type": "code",
      "source": [
        "with open(\"workfile.txt\", \"w\") as workfile:\n",
        "    workfile.write(\"bam\")\n",
        "!cat workfile.txt"
      ],
      "execution_count": 0,
      "outputs": [
        {
          "output_type": "stream",
          "text": [
            "bam"
          ],
          "name": "stdout"
        }
      ]
    },
    {
      "metadata": {
        "id": "nBTHSbf0hWJ_",
        "colab_type": "text"
      },
      "cell_type": "markdown",
      "source": [
        "### Reading a file in"
      ]
    },
    {
      "metadata": {
        "id": "KU78EnCGhWJ_",
        "colab_type": "code",
        "colab": {
          "base_uri": "https://localhost:8080/",
          "height": 34
        },
        "outputId": "6c734e7c-6b6d-4f8b-ebe9-7c3e5249ccdb"
      },
      "cell_type": "code",
      "source": [
        "f = open(\"workfile.txt\", \"r\")\n",
        "out = f.readlines()\n",
        "f.close()\n",
        "print(out)"
      ],
      "execution_count": 0,
      "outputs": [
        {
          "output_type": "stream",
          "text": [
            "['bam']\n"
          ],
          "name": "stdout"
        }
      ]
    },
    {
      "metadata": {
        "id": "t-1Zd9ryhWKD",
        "colab_type": "text"
      },
      "cell_type": "markdown",
      "source": [
        "### Write two things with complex sentence\n"
      ]
    },
    {
      "metadata": {
        "id": "d_0RN4CbhWKE",
        "colab_type": "code",
        "colab": {}
      },
      "cell_type": "code",
      "source": [
        "number = 1.0\n",
        "my_string = \"My favorite number\"\n",
        "statement = f\"{my_string} {number}\""
      ],
      "execution_count": 0,
      "outputs": []
    },
    {
      "metadata": {
        "id": "sUC2C0lEhWKH",
        "colab_type": "code",
        "colab": {
          "base_uri": "https://localhost:8080/",
          "height": 34
        },
        "outputId": "b7fe3618-065d-456d-948d-0d971152a9b4"
      },
      "cell_type": "code",
      "source": [
        "print(statement)"
      ],
      "execution_count": 0,
      "outputs": [
        {
          "output_type": "stream",
          "text": [
            "My favorite number 1.0\n"
          ],
          "name": "stdout"
        }
      ]
    },
    {
      "metadata": {
        "id": "19GxjMg9hWKK",
        "colab_type": "code",
        "colab": {
          "base_uri": "https://localhost:8080/",
          "height": 34
        },
        "outputId": "b0e3a6a0-76bd-4b52-87e8-dfde8605b7f0"
      },
      "cell_type": "code",
      "source": [
        "with open(\"workfile2.txt\", \"w\") as workfile:\n",
        "    workfile.write(statement)\n",
        "!cat workfile2.txt"
      ],
      "execution_count": 0,
      "outputs": [
        {
          "output_type": "stream",
          "text": [
            "My favorite number 1.0"
          ],
          "name": "stdout"
        }
      ]
    },
    {
      "metadata": {
        "id": "m15CHku_hWKO",
        "colab_type": "text"
      },
      "cell_type": "markdown",
      "source": [
        "#### How do I create a DataFrame in Pandas\n",
        "* Load a csv file (remotely or locally)\n",
        "* Load a list or dictionary to create a dataframe\n",
        "* Create an empty dataframe and programtically insert values into it\n"
      ]
    },
    {
      "metadata": {
        "id": "sjB5UPZuiWQR",
        "colab_type": "text"
      },
      "cell_type": "markdown",
      "source": [
        "### Load CSV from Github (or any url) into Pandas DataFrame\n",
        "\n",
        "Just path in a url with a CSV.  Note the \"raw path\""
      ]
    },
    {
      "metadata": {
        "id": "lWRjZ4x0kMKg",
        "colab_type": "code",
        "colab": {
          "base_uri": "https://localhost:8080/",
          "height": 551
        },
        "outputId": "e75b0b43-cc9c-4eff-e13a-5eec6d87b9dc"
      },
      "cell_type": "code",
      "source": [
        "import pandas as pd\n",
        "csv_url = 'https://raw.githubusercontent.com/noahgift/mma/master/data/ufc_fights_all.csv'\n",
        "mma_df = pd.read_csv(csv_url)\n",
        "mma_df.head()"
      ],
      "execution_count": 0,
      "outputs": [
        {
          "output_type": "execute_result",
          "data": {
            "text/html": [
              "<div>\n",
              "<style scoped>\n",
              "    .dataframe tbody tr th:only-of-type {\n",
              "        vertical-align: middle;\n",
              "    }\n",
              "\n",
              "    .dataframe tbody tr th {\n",
              "        vertical-align: top;\n",
              "    }\n",
              "\n",
              "    .dataframe thead th {\n",
              "        text-align: right;\n",
              "    }\n",
              "</style>\n",
              "<table border=\"1\" class=\"dataframe\">\n",
              "  <thead>\n",
              "    <tr style=\"text-align: right;\">\n",
              "      <th></th>\n",
              "      <th>pageurl</th>\n",
              "      <th>eid</th>\n",
              "      <th>mid</th>\n",
              "      <th>event_name</th>\n",
              "      <th>event_org</th>\n",
              "      <th>event_date</th>\n",
              "      <th>event_place</th>\n",
              "      <th>f1pageurl</th>\n",
              "      <th>f2pageurl</th>\n",
              "      <th>f1name</th>\n",
              "      <th>f2name</th>\n",
              "      <th>f1result</th>\n",
              "      <th>f2result</th>\n",
              "      <th>f1fid</th>\n",
              "      <th>f2fid</th>\n",
              "      <th>method</th>\n",
              "      <th>method_d</th>\n",
              "      <th>ref</th>\n",
              "      <th>round</th>\n",
              "      <th>time</th>\n",
              "    </tr>\n",
              "  </thead>\n",
              "  <tbody>\n",
              "    <tr>\n",
              "      <th>0</th>\n",
              "      <td>/events/UFC-1-The-Beginning-7</td>\n",
              "      <td>7</td>\n",
              "      <td>8</td>\n",
              "      <td>UFC 1 - The Beginning</td>\n",
              "      <td>Ultimate Fighting Championship</td>\n",
              "      <td>11/12/93</td>\n",
              "      <td>McNichols Arena, Denver, Colorado, United States</td>\n",
              "      <td>/fighter/Royce-Gracie-19</td>\n",
              "      <td>/fighter/Gerard-Gordeau-15</td>\n",
              "      <td>Royce Gracie</td>\n",
              "      <td>Gerard Gordeau</td>\n",
              "      <td>win</td>\n",
              "      <td>loss</td>\n",
              "      <td>19</td>\n",
              "      <td>15</td>\n",
              "      <td>Submission</td>\n",
              "      <td>Rear-Naked Choke</td>\n",
              "      <td>Helio Vigio</td>\n",
              "      <td>1</td>\n",
              "      <td>1:44</td>\n",
              "    </tr>\n",
              "    <tr>\n",
              "      <th>1</th>\n",
              "      <td>/events/UFC-1-The-Beginning-7</td>\n",
              "      <td>7</td>\n",
              "      <td>7</td>\n",
              "      <td>UFC 1 - The Beginning</td>\n",
              "      <td>Ultimate Fighting Championship</td>\n",
              "      <td>11/12/93</td>\n",
              "      <td>McNichols Arena, Denver, Colorado, United States</td>\n",
              "      <td>/fighter/Jason-DeLucia-22</td>\n",
              "      <td>/fighter/Trent-Jenkins-23</td>\n",
              "      <td>Jason DeLucia</td>\n",
              "      <td>Trent Jenkins</td>\n",
              "      <td>win</td>\n",
              "      <td>loss</td>\n",
              "      <td>22</td>\n",
              "      <td>23</td>\n",
              "      <td>Submission</td>\n",
              "      <td>Rear-Naked Choke</td>\n",
              "      <td>Joao Alberto Barreto</td>\n",
              "      <td>1</td>\n",
              "      <td>0:52</td>\n",
              "    </tr>\n",
              "    <tr>\n",
              "      <th>2</th>\n",
              "      <td>/events/UFC-1-The-Beginning-7</td>\n",
              "      <td>7</td>\n",
              "      <td>6</td>\n",
              "      <td>UFC 1 - The Beginning</td>\n",
              "      <td>Ultimate Fighting Championship</td>\n",
              "      <td>11/12/93</td>\n",
              "      <td>McNichols Arena, Denver, Colorado, United States</td>\n",
              "      <td>/fighter/Royce-Gracie-19</td>\n",
              "      <td>/fighter/Ken-Shamrock-4</td>\n",
              "      <td>Royce Gracie</td>\n",
              "      <td>Ken Shamrock</td>\n",
              "      <td>win</td>\n",
              "      <td>loss</td>\n",
              "      <td>19</td>\n",
              "      <td>4</td>\n",
              "      <td>Submission</td>\n",
              "      <td>Rear-Naked Choke</td>\n",
              "      <td>Helio Vigio</td>\n",
              "      <td>1</td>\n",
              "      <td>0:57</td>\n",
              "    </tr>\n",
              "    <tr>\n",
              "      <th>3</th>\n",
              "      <td>/events/UFC-1-The-Beginning-7</td>\n",
              "      <td>7</td>\n",
              "      <td>5</td>\n",
              "      <td>UFC 1 - The Beginning</td>\n",
              "      <td>Ultimate Fighting Championship</td>\n",
              "      <td>11/12/93</td>\n",
              "      <td>McNichols Arena, Denver, Colorado, United States</td>\n",
              "      <td>/fighter/Gerard-Gordeau-15</td>\n",
              "      <td>/fighter/Kevin-Rosier-17</td>\n",
              "      <td>Gerard Gordeau</td>\n",
              "      <td>Kevin Rosier</td>\n",
              "      <td>win</td>\n",
              "      <td>loss</td>\n",
              "      <td>15</td>\n",
              "      <td>17</td>\n",
              "      <td>TKO</td>\n",
              "      <td>Corner Stoppage</td>\n",
              "      <td>Joao Alberto Barreto</td>\n",
              "      <td>1</td>\n",
              "      <td>0:59</td>\n",
              "    </tr>\n",
              "    <tr>\n",
              "      <th>4</th>\n",
              "      <td>/events/UFC-1-The-Beginning-7</td>\n",
              "      <td>7</td>\n",
              "      <td>4</td>\n",
              "      <td>UFC 1 - The Beginning</td>\n",
              "      <td>Ultimate Fighting Championship</td>\n",
              "      <td>11/12/93</td>\n",
              "      <td>McNichols Arena, Denver, Colorado, United States</td>\n",
              "      <td>/fighter/Ken-Shamrock-4</td>\n",
              "      <td>/fighter/Patrick-Smith-21</td>\n",
              "      <td>Ken Shamrock</td>\n",
              "      <td>Patrick Smith</td>\n",
              "      <td>win</td>\n",
              "      <td>loss</td>\n",
              "      <td>4</td>\n",
              "      <td>21</td>\n",
              "      <td>Submission</td>\n",
              "      <td>Heel Hook</td>\n",
              "      <td>Helio Vigio</td>\n",
              "      <td>1</td>\n",
              "      <td>1:49</td>\n",
              "    </tr>\n",
              "  </tbody>\n",
              "</table>\n",
              "</div>"
            ],
            "text/plain": [
              "                         pageurl  eid  mid             event_name  \\\n",
              "0  /events/UFC-1-The-Beginning-7    7    8  UFC 1 - The Beginning   \n",
              "1  /events/UFC-1-The-Beginning-7    7    7  UFC 1 - The Beginning   \n",
              "2  /events/UFC-1-The-Beginning-7    7    6  UFC 1 - The Beginning   \n",
              "3  /events/UFC-1-The-Beginning-7    7    5  UFC 1 - The Beginning   \n",
              "4  /events/UFC-1-The-Beginning-7    7    4  UFC 1 - The Beginning   \n",
              "\n",
              "                        event_org event_date  \\\n",
              "0  Ultimate Fighting Championship   11/12/93   \n",
              "1  Ultimate Fighting Championship   11/12/93   \n",
              "2  Ultimate Fighting Championship   11/12/93   \n",
              "3  Ultimate Fighting Championship   11/12/93   \n",
              "4  Ultimate Fighting Championship   11/12/93   \n",
              "\n",
              "                                        event_place  \\\n",
              "0  McNichols Arena, Denver, Colorado, United States   \n",
              "1  McNichols Arena, Denver, Colorado, United States   \n",
              "2  McNichols Arena, Denver, Colorado, United States   \n",
              "3  McNichols Arena, Denver, Colorado, United States   \n",
              "4  McNichols Arena, Denver, Colorado, United States   \n",
              "\n",
              "                    f1pageurl                   f2pageurl          f1name  \\\n",
              "0    /fighter/Royce-Gracie-19  /fighter/Gerard-Gordeau-15    Royce Gracie   \n",
              "1   /fighter/Jason-DeLucia-22   /fighter/Trent-Jenkins-23   Jason DeLucia   \n",
              "2    /fighter/Royce-Gracie-19     /fighter/Ken-Shamrock-4    Royce Gracie   \n",
              "3  /fighter/Gerard-Gordeau-15    /fighter/Kevin-Rosier-17  Gerard Gordeau   \n",
              "4     /fighter/Ken-Shamrock-4   /fighter/Patrick-Smith-21    Ken Shamrock   \n",
              "\n",
              "           f2name f1result f2result  f1fid  f2fid      method  \\\n",
              "0  Gerard Gordeau      win     loss     19     15  Submission   \n",
              "1   Trent Jenkins      win     loss     22     23  Submission   \n",
              "2    Ken Shamrock      win     loss     19      4  Submission   \n",
              "3    Kevin Rosier      win     loss     15     17         TKO   \n",
              "4   Patrick Smith      win     loss      4     21  Submission   \n",
              "\n",
              "           method_d                   ref  round  time  \n",
              "0  Rear-Naked Choke           Helio Vigio      1  1:44  \n",
              "1  Rear-Naked Choke  Joao Alberto Barreto      1  0:52  \n",
              "2  Rear-Naked Choke           Helio Vigio      1  0:57  \n",
              "3   Corner Stoppage  Joao Alberto Barreto      1  0:59  \n",
              "4         Heel Hook           Helio Vigio      1  1:49  "
            ]
          },
          "metadata": {
            "tags": []
          },
          "execution_count": 14
        }
      ]
    },
    {
      "metadata": {
        "id": "vxAFq9MtlXj0",
        "colab_type": "text"
      },
      "cell_type": "markdown",
      "source": [
        "### Pandas DataFrame Column to List\n",
        "\n"
      ]
    },
    {
      "metadata": {
        "id": "SlKk4h4TliHP",
        "colab_type": "code",
        "colab": {
          "base_uri": "https://localhost:8080/",
          "height": 34
        },
        "outputId": "96c42e97-80aa-472d-8d6b-2870421e88af"
      },
      "cell_type": "code",
      "source": [
        "winning_technique_list = mma_df['method_d'].tolist()\n",
        "winning_technique_list[0:4]"
      ],
      "execution_count": 0,
      "outputs": [
        {
          "output_type": "execute_result",
          "data": {
            "text/plain": [
              "['Rear-Naked Choke', 'Rear-Naked Choke', 'Rear-Naked Choke', 'Corner Stoppage']"
            ]
          },
          "metadata": {
            "tags": []
          },
          "execution_count": 18
        }
      ]
    },
    {
      "metadata": {
        "id": "UTVNiOxan1C7",
        "colab_type": "text"
      },
      "cell_type": "markdown",
      "source": [
        "### List to Pandas DataFrame \n"
      ]
    },
    {
      "metadata": {
        "id": "sT8Qf3srmhpb",
        "colab_type": "code",
        "colab": {
          "base_uri": "https://localhost:8080/",
          "height": 195
        },
        "outputId": "7fabb161-3b5f-4a6d-85c4-7924f5977a06"
      },
      "cell_type": "code",
      "source": [
        "techniques_df = pd.DataFrame(winning_technique_list)\n",
        "techniques_df.columns = [\"stoppage\"]\n",
        "techniques_df.head()"
      ],
      "execution_count": 0,
      "outputs": [
        {
          "output_type": "execute_result",
          "data": {
            "text/html": [
              "<div>\n",
              "<style scoped>\n",
              "    .dataframe tbody tr th:only-of-type {\n",
              "        vertical-align: middle;\n",
              "    }\n",
              "\n",
              "    .dataframe tbody tr th {\n",
              "        vertical-align: top;\n",
              "    }\n",
              "\n",
              "    .dataframe thead th {\n",
              "        text-align: right;\n",
              "    }\n",
              "</style>\n",
              "<table border=\"1\" class=\"dataframe\">\n",
              "  <thead>\n",
              "    <tr style=\"text-align: right;\">\n",
              "      <th></th>\n",
              "      <th>stoppage</th>\n",
              "    </tr>\n",
              "  </thead>\n",
              "  <tbody>\n",
              "    <tr>\n",
              "      <th>0</th>\n",
              "      <td>Rear-Naked Choke</td>\n",
              "    </tr>\n",
              "    <tr>\n",
              "      <th>1</th>\n",
              "      <td>Rear-Naked Choke</td>\n",
              "    </tr>\n",
              "    <tr>\n",
              "      <th>2</th>\n",
              "      <td>Rear-Naked Choke</td>\n",
              "    </tr>\n",
              "    <tr>\n",
              "      <th>3</th>\n",
              "      <td>Corner Stoppage</td>\n",
              "    </tr>\n",
              "    <tr>\n",
              "      <th>4</th>\n",
              "      <td>Heel Hook</td>\n",
              "    </tr>\n",
              "  </tbody>\n",
              "</table>\n",
              "</div>"
            ],
            "text/plain": [
              "           stoppage\n",
              "0  Rear-Naked Choke\n",
              "1  Rear-Naked Choke\n",
              "2  Rear-Naked Choke\n",
              "3   Corner Stoppage\n",
              "4         Heel Hook"
            ]
          },
          "metadata": {
            "tags": []
          },
          "execution_count": 21
        }
      ]
    },
    {
      "metadata": {
        "id": "cB_GXj17o9Ln",
        "colab_type": "text"
      },
      "cell_type": "markdown",
      "source": [
        "### Pandas DataFrame to Dictionary\n",
        "\n",
        "Grab a couple of records and convert to Python dictionary"
      ]
    },
    {
      "metadata": {
        "id": "LqX8jpzwrCwu",
        "colab_type": "code",
        "colab": {
          "base_uri": "https://localhost:8080/",
          "height": 420
        },
        "outputId": "4d965f8d-e6f1-493d-f67c-f44805fcb6e9"
      },
      "cell_type": "code",
      "source": [
        "mma_dict = mma_df.head(2).to_dict()\n",
        "mma_dict"
      ],
      "execution_count": 0,
      "outputs": [
        {
          "output_type": "execute_result",
          "data": {
            "text/plain": [
              "{'eid': {0: 7, 1: 7},\n",
              " 'event_date': {0: '11/12/93', 1: '11/12/93'},\n",
              " 'event_name': {0: 'UFC 1 - The Beginning', 1: 'UFC 1 - The Beginning'},\n",
              " 'event_org': {0: 'Ultimate Fighting Championship',\n",
              "  1: 'Ultimate Fighting Championship'},\n",
              " 'event_place': {0: 'McNichols Arena, Denver, Colorado, United States',\n",
              "  1: 'McNichols Arena, Denver, Colorado, United States'},\n",
              " 'f1fid': {0: 19, 1: 22},\n",
              " 'f1name': {0: 'Royce Gracie', 1: 'Jason DeLucia'},\n",
              " 'f1pageurl': {0: '/fighter/Royce-Gracie-19', 1: '/fighter/Jason-DeLucia-22'},\n",
              " 'f1result': {0: 'win', 1: 'win'},\n",
              " 'f2fid': {0: 15, 1: 23},\n",
              " 'f2name': {0: 'Gerard Gordeau', 1: 'Trent Jenkins'},\n",
              " 'f2pageurl': {0: '/fighter/Gerard-Gordeau-15',\n",
              "  1: '/fighter/Trent-Jenkins-23'},\n",
              " 'f2result': {0: 'loss', 1: 'loss'},\n",
              " 'method': {0: 'Submission', 1: 'Submission'},\n",
              " 'method_d': {0: 'Rear-Naked Choke', 1: 'Rear-Naked Choke'},\n",
              " 'mid': {0: 8, 1: 7},\n",
              " 'pageurl': {0: '/events/UFC-1-The-Beginning-7',\n",
              "  1: '/events/UFC-1-The-Beginning-7'},\n",
              " 'ref': {0: 'Helio Vigio', 1: 'Joao Alberto Barreto'},\n",
              " 'round': {0: 1, 1: 1},\n",
              " 'time': {0: '1:44', 1: '0:52'}}"
            ]
          },
          "metadata": {
            "tags": []
          },
          "execution_count": 28
        }
      ]
    },
    {
      "metadata": {
        "id": "pnFiKZWRrY0k",
        "colab_type": "text"
      },
      "cell_type": "markdown",
      "source": [
        "### Dictionary to Pandas DataFrame\n",
        "\n",
        "Take dictionary full of dictionaries and make it a Pandas DataFrame\n"
      ]
    },
    {
      "metadata": {
        "id": "UQilpkNPrenC",
        "colab_type": "code",
        "colab": {
          "base_uri": "https://localhost:8080/",
          "height": 261
        },
        "outputId": "b05aec7a-91b3-43f0-dc9d-f558bc73fa5e"
      },
      "cell_type": "code",
      "source": [
        "mma_df2 = pd.DataFrame(mma_dict)\n",
        "mma_df2.head()"
      ],
      "execution_count": 0,
      "outputs": [
        {
          "output_type": "execute_result",
          "data": {
            "text/html": [
              "<div>\n",
              "<style scoped>\n",
              "    .dataframe tbody tr th:only-of-type {\n",
              "        vertical-align: middle;\n",
              "    }\n",
              "\n",
              "    .dataframe tbody tr th {\n",
              "        vertical-align: top;\n",
              "    }\n",
              "\n",
              "    .dataframe thead th {\n",
              "        text-align: right;\n",
              "    }\n",
              "</style>\n",
              "<table border=\"1\" class=\"dataframe\">\n",
              "  <thead>\n",
              "    <tr style=\"text-align: right;\">\n",
              "      <th></th>\n",
              "      <th>eid</th>\n",
              "      <th>event_date</th>\n",
              "      <th>event_name</th>\n",
              "      <th>event_org</th>\n",
              "      <th>event_place</th>\n",
              "      <th>f1fid</th>\n",
              "      <th>f1name</th>\n",
              "      <th>f1pageurl</th>\n",
              "      <th>f1result</th>\n",
              "      <th>f2fid</th>\n",
              "      <th>f2name</th>\n",
              "      <th>f2pageurl</th>\n",
              "      <th>f2result</th>\n",
              "      <th>method</th>\n",
              "      <th>method_d</th>\n",
              "      <th>mid</th>\n",
              "      <th>pageurl</th>\n",
              "      <th>ref</th>\n",
              "      <th>round</th>\n",
              "      <th>time</th>\n",
              "    </tr>\n",
              "  </thead>\n",
              "  <tbody>\n",
              "    <tr>\n",
              "      <th>0</th>\n",
              "      <td>7</td>\n",
              "      <td>11/12/93</td>\n",
              "      <td>UFC 1 - The Beginning</td>\n",
              "      <td>Ultimate Fighting Championship</td>\n",
              "      <td>McNichols Arena, Denver, Colorado, United States</td>\n",
              "      <td>19</td>\n",
              "      <td>Royce Gracie</td>\n",
              "      <td>/fighter/Royce-Gracie-19</td>\n",
              "      <td>win</td>\n",
              "      <td>15</td>\n",
              "      <td>Gerard Gordeau</td>\n",
              "      <td>/fighter/Gerard-Gordeau-15</td>\n",
              "      <td>loss</td>\n",
              "      <td>Submission</td>\n",
              "      <td>Rear-Naked Choke</td>\n",
              "      <td>8</td>\n",
              "      <td>/events/UFC-1-The-Beginning-7</td>\n",
              "      <td>Helio Vigio</td>\n",
              "      <td>1</td>\n",
              "      <td>1:44</td>\n",
              "    </tr>\n",
              "    <tr>\n",
              "      <th>1</th>\n",
              "      <td>7</td>\n",
              "      <td>11/12/93</td>\n",
              "      <td>UFC 1 - The Beginning</td>\n",
              "      <td>Ultimate Fighting Championship</td>\n",
              "      <td>McNichols Arena, Denver, Colorado, United States</td>\n",
              "      <td>22</td>\n",
              "      <td>Jason DeLucia</td>\n",
              "      <td>/fighter/Jason-DeLucia-22</td>\n",
              "      <td>win</td>\n",
              "      <td>23</td>\n",
              "      <td>Trent Jenkins</td>\n",
              "      <td>/fighter/Trent-Jenkins-23</td>\n",
              "      <td>loss</td>\n",
              "      <td>Submission</td>\n",
              "      <td>Rear-Naked Choke</td>\n",
              "      <td>7</td>\n",
              "      <td>/events/UFC-1-The-Beginning-7</td>\n",
              "      <td>Joao Alberto Barreto</td>\n",
              "      <td>1</td>\n",
              "      <td>0:52</td>\n",
              "    </tr>\n",
              "  </tbody>\n",
              "</table>\n",
              "</div>"
            ],
            "text/plain": [
              "   eid event_date             event_name                       event_org  \\\n",
              "0    7   11/12/93  UFC 1 - The Beginning  Ultimate Fighting Championship   \n",
              "1    7   11/12/93  UFC 1 - The Beginning  Ultimate Fighting Championship   \n",
              "\n",
              "                                        event_place  f1fid         f1name  \\\n",
              "0  McNichols Arena, Denver, Colorado, United States     19   Royce Gracie   \n",
              "1  McNichols Arena, Denver, Colorado, United States     22  Jason DeLucia   \n",
              "\n",
              "                   f1pageurl f1result  f2fid          f2name  \\\n",
              "0   /fighter/Royce-Gracie-19      win     15  Gerard Gordeau   \n",
              "1  /fighter/Jason-DeLucia-22      win     23   Trent Jenkins   \n",
              "\n",
              "                    f2pageurl f2result      method          method_d  mid  \\\n",
              "0  /fighter/Gerard-Gordeau-15     loss  Submission  Rear-Naked Choke    8   \n",
              "1   /fighter/Trent-Jenkins-23     loss  Submission  Rear-Naked Choke    7   \n",
              "\n",
              "                         pageurl                   ref  round  time  \n",
              "0  /events/UFC-1-The-Beginning-7           Helio Vigio      1  1:44  \n",
              "1  /events/UFC-1-The-Beginning-7  Joao Alberto Barreto      1  0:52  "
            ]
          },
          "metadata": {
            "tags": []
          },
          "execution_count": 29
        }
      ]
    },
    {
      "metadata": {
        "id": "us9TfDvis72u",
        "colab_type": "text"
      },
      "cell_type": "markdown",
      "source": [
        "### Pandas DataFrame to CSV"
      ]
    },
    {
      "metadata": {
        "id": "uxDKlnNvxYNK",
        "colab_type": "code",
        "colab": {
          "base_uri": "https://localhost:8080/",
          "height": 87
        },
        "outputId": "fd2f5465-6630-43bd-f3f8-67bc55867d4e"
      },
      "cell_type": "code",
      "source": [
        "mma_df2.to_csv(\"small_mma_records.csv\")\n",
        "!cat small_mma_records.csv"
      ],
      "execution_count": 0,
      "outputs": [
        {
          "output_type": "stream",
          "text": [
            ",eid,event_date,event_name,event_org,event_place,f1fid,f1name,f1pageurl,f1result,f2fid,f2name,f2pageurl,f2result,method,method_d,mid,pageurl,ref,round,time\r\n",
            "0,7,11/12/93,UFC 1 - The Beginning,Ultimate Fighting Championship,\"McNichols Arena, Denver, Colorado, United States\",19,Royce Gracie,/fighter/Royce-Gracie-19,win,15,Gerard Gordeau,/fighter/Gerard-Gordeau-15,loss,Submission,Rear-Naked Choke,8,/events/UFC-1-The-Beginning-7,Helio Vigio,1,1:44\r\n",
            "1,7,11/12/93,UFC 1 - The Beginning,Ultimate Fighting Championship,\"McNichols Arena, Denver, Colorado, United States\",22,Jason DeLucia,/fighter/Jason-DeLucia-22,win,23,Trent Jenkins,/fighter/Trent-Jenkins-23,loss,Submission,Rear-Naked Choke,7,/events/UFC-1-The-Beginning-7,Joao Alberto Barreto,1,0:52\r\n"
          ],
          "name": "stdout"
        }
      ]
    },
    {
      "metadata": {
        "id": "nESKa80Hyt58",
        "colab_type": "text"
      },
      "cell_type": "markdown",
      "source": [
        "### Google Sheets to Pandas DataFrame"
      ]
    },
    {
      "metadata": {
        "id": "SGWt563ky07V",
        "colab_type": "text"
      },
      "cell_type": "markdown",
      "source": [
        "**Install Google Spreadsheet Library**"
      ]
    },
    {
      "metadata": {
        "id": "A3HXBtQAy1_J",
        "colab_type": "code",
        "colab": {}
      },
      "cell_type": "code",
      "source": [
        "!pip install --upgrade -q gspread"
      ],
      "execution_count": 0,
      "outputs": []
    },
    {
      "metadata": {
        "id": "FZfnCtJ1y5Hi",
        "colab_type": "text"
      },
      "cell_type": "markdown",
      "source": [
        "**Authenticate to API**"
      ]
    },
    {
      "metadata": {
        "id": "F83upDZFzLP3",
        "colab_type": "code",
        "colab": {}
      },
      "cell_type": "code",
      "source": [
        "from google.colab import auth\n",
        "auth.authenticate_user()\n",
        "\n",
        "import gspread\n",
        "from oauth2client.client import GoogleCredentials\n",
        "\n",
        "gc = gspread.authorize(GoogleCredentials.get_application_default())"
      ],
      "execution_count": 0,
      "outputs": []
    },
    {
      "metadata": {
        "id": "Vg91StBDzZHQ",
        "colab_type": "text"
      },
      "cell_type": "markdown",
      "source": [
        "**Create a Spreadsheet and Put Items in It**\n",
        "\n",
        "Note, could use existing spreadsheet"
      ]
    },
    {
      "metadata": {
        "id": "0RxhbfZVzdB1",
        "colab_type": "code",
        "colab": {}
      },
      "cell_type": "code",
      "source": [
        "sh = gc.create('pramaticai-test')\n",
        "worksheet = gc.open('pramaticai-test').sheet1\n",
        "cell_list = worksheet.range('A1:A10')\n",
        "\n",
        "import random\n",
        "count = 0\n",
        "for cell in cell_list:\n",
        "  count +=1\n",
        "  cell.value = count\n",
        "worksheet.update_cells(cell_list)"
      ],
      "execution_count": 0,
      "outputs": []
    },
    {
      "metadata": {
        "id": "PJlb7xdhznFX",
        "colab_type": "text"
      },
      "cell_type": "markdown",
      "source": [
        "**Convert Spreadsheet Data to Pandas DataFrame**"
      ]
    },
    {
      "metadata": {
        "id": "aejZq8zs1Vel",
        "colab_type": "code",
        "colab": {
          "base_uri": "https://localhost:8080/",
          "height": 343
        },
        "outputId": "3a827795-b8e7-48a6-bb6d-7d20c2a4e129"
      },
      "cell_type": "code",
      "source": [
        "worksheet = gc.open('pramaticai-test').sheet1\n",
        "rows = worksheet.get_all_values()\n",
        "import pandas as pd\n",
        "df = pd.DataFrame.from_records(rows)\n",
        "df"
      ],
      "execution_count": 0,
      "outputs": [
        {
          "output_type": "execute_result",
          "data": {
            "text/html": [
              "<div>\n",
              "<style scoped>\n",
              "    .dataframe tbody tr th:only-of-type {\n",
              "        vertical-align: middle;\n",
              "    }\n",
              "\n",
              "    .dataframe tbody tr th {\n",
              "        vertical-align: top;\n",
              "    }\n",
              "\n",
              "    .dataframe thead th {\n",
              "        text-align: right;\n",
              "    }\n",
              "</style>\n",
              "<table border=\"1\" class=\"dataframe\">\n",
              "  <thead>\n",
              "    <tr style=\"text-align: right;\">\n",
              "      <th></th>\n",
              "      <th>0</th>\n",
              "    </tr>\n",
              "  </thead>\n",
              "  <tbody>\n",
              "    <tr>\n",
              "      <th>0</th>\n",
              "      <td>1</td>\n",
              "    </tr>\n",
              "    <tr>\n",
              "      <th>1</th>\n",
              "      <td>2</td>\n",
              "    </tr>\n",
              "    <tr>\n",
              "      <th>2</th>\n",
              "      <td>3</td>\n",
              "    </tr>\n",
              "    <tr>\n",
              "      <th>3</th>\n",
              "      <td>4</td>\n",
              "    </tr>\n",
              "    <tr>\n",
              "      <th>4</th>\n",
              "      <td>5</td>\n",
              "    </tr>\n",
              "    <tr>\n",
              "      <th>5</th>\n",
              "      <td>6</td>\n",
              "    </tr>\n",
              "    <tr>\n",
              "      <th>6</th>\n",
              "      <td>7</td>\n",
              "    </tr>\n",
              "    <tr>\n",
              "      <th>7</th>\n",
              "      <td>8</td>\n",
              "    </tr>\n",
              "    <tr>\n",
              "      <th>8</th>\n",
              "      <td>9</td>\n",
              "    </tr>\n",
              "    <tr>\n",
              "      <th>9</th>\n",
              "      <td>10</td>\n",
              "    </tr>\n",
              "  </tbody>\n",
              "</table>\n",
              "</div>"
            ],
            "text/plain": [
              "    0\n",
              "0   1\n",
              "1   2\n",
              "2   3\n",
              "3   4\n",
              "4   5\n",
              "5   6\n",
              "6   7\n",
              "7   8\n",
              "8   9\n",
              "9  10"
            ]
          },
          "metadata": {
            "tags": []
          },
          "execution_count": 53
        }
      ]
    },
    {
      "metadata": {
        "id": "A5_rOh5c2IWt",
        "colab_type": "text"
      },
      "cell_type": "markdown",
      "source": [
        "### Create A Flask API Around Pandas\n",
        "\n",
        "\n",
        "Example of creating an API around Pandas with Flask\n",
        "\n",
        "https://github.com/noahgift/pai-aws\n",
        "\n"
      ]
    },
    {
      "metadata": {
        "id": "rIPsQqf0hWKj",
        "colab_type": "text"
      },
      "cell_type": "markdown",
      "source": [
        "### Serialize a Python Dictionary to Pickle"
      ]
    },
    {
      "metadata": {
        "id": "iEAd0XhghWKk",
        "colab_type": "code",
        "colab": {}
      },
      "cell_type": "code",
      "source": [
        "mydict = {\"one\":1, \"two\":2}\n"
      ],
      "execution_count": 0,
      "outputs": []
    },
    {
      "metadata": {
        "id": "FmmZYUPHhWKm",
        "colab_type": "code",
        "colab": {}
      },
      "cell_type": "code",
      "source": [
        "import pickle\n"
      ],
      "execution_count": 0,
      "outputs": []
    },
    {
      "metadata": {
        "id": "a6Iz0N0YhWKq",
        "colab_type": "code",
        "colab": {}
      },
      "cell_type": "code",
      "source": [
        "pickle.dump(mydict, open('mydictionary.pickle', 'wb'))"
      ],
      "execution_count": 0,
      "outputs": []
    },
    {
      "metadata": {
        "id": "RSonHmOthWKr",
        "colab_type": "code",
        "colab": {
          "base_uri": "https://localhost:8080/",
          "height": 34
        },
        "outputId": "9b220bfc-722b-44c8-8c55-5362625df731"
      },
      "cell_type": "code",
      "source": [
        "!ls -l mydictionary.pickle"
      ],
      "execution_count": 0,
      "outputs": [
        {
          "output_type": "stream",
          "text": [
            "-rw-r--r-- 1 root root 32 Apr  3 13:29 mydictionary.pickle\r\n"
          ],
          "name": "stdout"
        }
      ]
    },
    {
      "metadata": {
        "id": "V8-zQfB0hWKt",
        "colab_type": "code",
        "colab": {
          "base_uri": "https://localhost:8080/",
          "height": 34
        },
        "outputId": "234da8a5-0547-4ece-e786-ba1b46ee2d32"
      },
      "cell_type": "code",
      "source": [
        "!cat mydictionary.pickle"
      ],
      "execution_count": 0,
      "outputs": [
        {
          "output_type": "stream",
          "text": [
            "�\u0003}q\u0000(X\u0003\u0000\u0000\u0000oneq\u0001K\u0001X\u0003\u0000\u0000\u0000twoq\u0002K\u0002u."
          ],
          "name": "stdout"
        }
      ]
    },
    {
      "metadata": {
        "id": "mLzDtEKEhWKw",
        "colab_type": "code",
        "colab": {}
      },
      "cell_type": "code",
      "source": [
        "res = pickle.load(open('mydictionary.pickle', \"rb\"))"
      ],
      "execution_count": 0,
      "outputs": []
    },
    {
      "metadata": {
        "id": "zCzfzWjZhWKy",
        "colab_type": "code",
        "colab": {
          "base_uri": "https://localhost:8080/",
          "height": 34
        },
        "outputId": "d5847874-1ad9-4bbb-bc1d-d49013042664"
      },
      "cell_type": "code",
      "source": [
        "print(res)"
      ],
      "execution_count": 0,
      "outputs": [
        {
          "output_type": "stream",
          "text": [
            "{'one': 1, 'two': 2}\n"
          ],
          "name": "stdout"
        }
      ]
    },
    {
      "metadata": {
        "id": "u-q9TXBohWKz",
        "colab_type": "text"
      },
      "cell_type": "markdown",
      "source": [
        "### Serialize a Python Dictionary to JSON\n"
      ]
    },
    {
      "metadata": {
        "id": "looKDuTxhWK0",
        "colab_type": "code",
        "colab": {}
      },
      "cell_type": "code",
      "source": [
        "import json\n",
        "with open('data.json', 'w') as outfile:\n",
        "    json.dump(res, outfile)"
      ],
      "execution_count": 0,
      "outputs": []
    },
    {
      "metadata": {
        "id": "Y93LFBGJhWK1",
        "colab_type": "code",
        "colab": {
          "base_uri": "https://localhost:8080/",
          "height": 34
        },
        "outputId": "a056412f-1c7f-4cc7-ae0e-d3356b4867a6"
      },
      "cell_type": "code",
      "source": [
        "!cat data.json"
      ],
      "execution_count": 0,
      "outputs": [
        {
          "output_type": "stream",
          "text": [
            "{\"one\": 1, \"two\": 2}"
          ],
          "name": "stdout"
        }
      ]
    },
    {
      "metadata": {
        "id": "kRGybF_NhWK5",
        "colab_type": "code",
        "colab": {}
      },
      "cell_type": "code",
      "source": [
        "with open('data.json', 'rb') as outfile:\n",
        "    res2 = json.load(outfile)"
      ],
      "execution_count": 0,
      "outputs": []
    },
    {
      "metadata": {
        "id": "S750voMJhWK6",
        "colab_type": "code",
        "colab": {
          "base_uri": "https://localhost:8080/",
          "height": 34
        },
        "outputId": "53aa413b-f264-4c0c-d1ea-bc767c3931d8"
      },
      "cell_type": "code",
      "source": [
        "print(res2)"
      ],
      "execution_count": 0,
      "outputs": [
        {
          "output_type": "stream",
          "text": [
            "{'one': 1, 'two': 2}\n"
          ],
          "name": "stdout"
        }
      ]
    },
    {
      "metadata": {
        "id": "i2K28HC1hWK9",
        "colab_type": "text"
      },
      "cell_type": "markdown",
      "source": [
        "### Save to Yaml"
      ]
    },
    {
      "metadata": {
        "id": "AUe3r3v7hWK9",
        "colab_type": "code",
        "colab": {}
      },
      "cell_type": "code",
      "source": [
        "import yaml"
      ],
      "execution_count": 0,
      "outputs": []
    },
    {
      "metadata": {
        "id": "4ssb3dGHhWK_",
        "colab_type": "code",
        "colab": {}
      },
      "cell_type": "code",
      "source": [
        "with open(\"data.yaml\", \"w\") as yamlfile:                                               \n",
        "    yaml.safe_dump(res2, yamlfile, default_flow_style=False) "
      ],
      "execution_count": 0,
      "outputs": []
    },
    {
      "metadata": {
        "id": "DLFaIQf-hWLB",
        "colab_type": "code",
        "colab": {
          "base_uri": "https://localhost:8080/",
          "height": 51
        },
        "outputId": "92933267-7544-4060-a3b5-99b503a14de9"
      },
      "cell_type": "code",
      "source": [
        "!cat data.yaml"
      ],
      "execution_count": 0,
      "outputs": [
        {
          "output_type": "stream",
          "text": [
            "one: 1\r\n",
            "two: 2\r\n"
          ],
          "name": "stdout"
        }
      ]
    },
    {
      "metadata": {
        "id": "3KeQJNc6hWLD",
        "colab_type": "text"
      },
      "cell_type": "markdown",
      "source": [
        "### Load Yaml"
      ]
    },
    {
      "metadata": {
        "id": "DLZm798GhWLE",
        "colab_type": "code",
        "colab": {}
      },
      "cell_type": "code",
      "source": [
        "with open(\"data.yaml\", \"rb\") as yamlfile:                                               \n",
        "    res3 = yaml.safe_load(yamlfile) "
      ],
      "execution_count": 0,
      "outputs": []
    },
    {
      "metadata": {
        "id": "NeCDXY1IhWLF",
        "colab_type": "code",
        "colab": {
          "base_uri": "https://localhost:8080/",
          "height": 34
        },
        "outputId": "e6511437-f40a-4d81-866f-d45a91c4868f"
      },
      "cell_type": "code",
      "source": [
        "print(res3)"
      ],
      "execution_count": 0,
      "outputs": [
        {
          "output_type": "stream",
          "text": [
            "{'one': 1, 'two': 2}\n"
          ],
          "name": "stdout"
        }
      ]
    },
    {
      "metadata": {
        "id": "R83LVBDIsxfm",
        "colab_type": "code",
        "colab": {}
      },
      "cell_type": "code",
      "source": [
        ""
      ],
      "execution_count": 0,
      "outputs": []
    },
    {
      "metadata": {
        "id": "g1725rxsyA2G",
        "colab_type": "text"
      },
      "cell_type": "markdown",
      "source": [
        "## Concurrency in Python"
      ]
    },
    {
      "metadata": {
        "id": "IipgwRB3hWKQ",
        "colab_type": "text"
      },
      "cell_type": "markdown",
      "source": [
        "### Using the subprocess command\n",
        "\n"
      ]
    },
    {
      "metadata": {
        "id": "nW231FK6hWKR",
        "colab_type": "code",
        "colab": {}
      },
      "cell_type": "code",
      "source": [
        "import subprocess\n"
      ],
      "execution_count": 0,
      "outputs": []
    },
    {
      "metadata": {
        "id": "ss29cZEOhWKT",
        "colab_type": "code",
        "colab": {}
      },
      "cell_type": "code",
      "source": [
        "res = subprocess.Popen(\"ls -l\", shell=True, stdout=subprocess.PIPE)\n"
      ],
      "execution_count": 0,
      "outputs": []
    },
    {
      "metadata": {
        "id": "p7UiltixhWKW",
        "colab_type": "code",
        "colab": {}
      },
      "cell_type": "code",
      "source": [
        "out = res.stdout.readlines()"
      ],
      "execution_count": 0,
      "outputs": []
    },
    {
      "metadata": {
        "id": "eDwdtvtehWKY",
        "colab_type": "code",
        "colab": {
          "base_uri": "https://localhost:8080/",
          "height": 54
        },
        "outputId": "47bbded2-7324-4efe-e450-a65a042a35e7"
      },
      "cell_type": "code",
      "source": [
        "print(out)"
      ],
      "execution_count": 0,
      "outputs": [
        {
          "output_type": "stream",
          "text": [
            "[b'total 12\\n', b'drwxr-xr-x 1 root root 4096 Mar 13 21:48 datalab\\n', b'-rw-r--r-- 1 root root   22 Apr  3 12:42 workfile2.txt\\n', b'-rw-r--r-- 1 root root    3 Apr  3 12:42 workfile.txt\\n']\n"
          ],
          "name": "stdout"
        }
      ]
    },
    {
      "metadata": {
        "id": "rEMX-exPhWKb",
        "colab_type": "text"
      },
      "cell_type": "markdown",
      "source": [
        "### Multiprocessing"
      ]
    },
    {
      "metadata": {
        "id": "GcGaOYHGhWKc",
        "colab_type": "code",
        "colab": {},
        "outputId": "8893569f-6e2c-4f8d-b6ae-dd9301523d69"
      },
      "cell_type": "code",
      "source": [
        "from multiprocessing import Pool\n",
        "\n",
        "def f(x):\n",
        "    return x*x\n",
        "\n",
        "if __name__ == '__main__':\n",
        "    p = Pool(5)\n",
        "    print(p.map(f, [1, 2, 3]))"
      ],
      "execution_count": 0,
      "outputs": [
        {
          "output_type": "stream",
          "text": [
            "[1, 4, 9]\n"
          ],
          "name": "stdout"
        }
      ]
    },
    {
      "metadata": {
        "id": "jQetgNnThWKg",
        "colab_type": "code",
        "colab": {},
        "outputId": "fbb065fa-2d0a-4814-d4a4-92da344980fa"
      },
      "cell_type": "code",
      "source": [
        "from multiprocessing import Process, Queue\n",
        "\n",
        "def f(q):\n",
        "    q.put([42, None, 'hello'])\n",
        "\n",
        "if __name__ == '__main__':\n",
        "    q = Queue()\n",
        "    p = Process(target=f, args=(q,))\n",
        "    p.start()\n",
        "    print(q.get())    # prints \"[42, None, 'hello']\"\n",
        "    p.join()"
      ],
      "execution_count": 0,
      "outputs": [
        {
          "output_type": "stream",
          "text": [
            "[42, None, 'hello']\n"
          ],
          "name": "stdout"
        }
      ]
    },
    {
      "metadata": {
        "id": "NuUMCNs03grn",
        "colab_type": "text"
      },
      "cell_type": "markdown",
      "source": [
        "### Async IO in Python\n",
        "\n",
        "More info here:  https://docs.python.org/3/library/asyncio.html\n",
        "\n",
        "\n",
        "```\n",
        "# This is formatted as code\n",
        "```\n",
        "\n",
        "\n",
        "```python\n",
        "import asyncio\n",
        "\n",
        "def send_async_firehose_events(count=100):\n",
        "    \"\"\"Async sends events to firehose\"\"\"\n",
        "\n",
        "    start = time.time() \n",
        "    client = firehose_client()\n",
        "    extra_msg = {\"aws_service\": \"firehose\"}\n",
        "    loop = asyncio.get_event_loop()\n",
        "    tasks = []\n",
        "    LOG.info(f\"sending aysnc events TOTAL {count}\",extra=extra_msg)\n",
        "    num = 0\n",
        "    for _ in range(count):\n",
        "        tasks.append(asyncio.ensure_future(put_record(gen_uuid_events(), client)))\n",
        "        LOG.info(f\"sending aysnc events: COUNT {num}/{count}\")\n",
        "        num +=1\n",
        "    loop.run_until_complete(asyncio.wait(tasks))\n",
        "    loop.close()\n",
        "    end = time.time()  \n",
        "    LOG.info(\"Total time: {}\".format(end - start))\n",
        "```\n"
      ]
    },
    {
      "metadata": {
        "id": "ggJ_Wj0IlCpL",
        "colab_type": "text"
      },
      "cell_type": "markdown",
      "source": [
        "### Larger Scale Concurrency\n",
        "\n",
        "\n",
        "\n",
        "*   AWS Batch\n",
        "*   Custom Architectures\n",
        "\n"
      ]
    },
    {
      "metadata": {
        "id": "Xk5b3n-phWKi",
        "colab_type": "text"
      },
      "cell_type": "markdown",
      "source": [
        "### Pyomo Article\n",
        "\n",
        "https://www.ibm.com/developerworks/cloud/library/cl-optimizepythoncloud1/\n",
        "\n",
        "![Worker Farm](https://www.ibm.com/developerworks/cloud/library/cl-optimizepythoncloud2/figure1.gif)"
      ]
    },
    {
      "metadata": {
        "id": "POSOZn3azv__",
        "colab_type": "text"
      },
      "cell_type": "markdown",
      "source": [
        "### Walk Through Social Power NBA EDA and ML Project\n",
        "\n",
        "https://github.com/noahgift/socialpowernba/blob/master/notebooks/exploring_team_valuation_nba.ipynb"
      ]
    },
    {
      "metadata": {
        "id": "dRt2yPjy0D8Z",
        "colab_type": "code",
        "colab": {}
      },
      "cell_type": "code",
      "source": [
        ""
      ],
      "execution_count": 0,
      "outputs": []
    }
  ]
}